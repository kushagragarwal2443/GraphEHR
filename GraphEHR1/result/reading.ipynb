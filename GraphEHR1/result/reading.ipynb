{
 "cells": [
  {
   "cell_type": "code",
   "execution_count": 10,
   "id": "ba223090",
   "metadata": {},
   "outputs": [],
   "source": [
    "import pandas as pd\n",
    "import os"
   ]
  },
  {
   "cell_type": "code",
   "execution_count": 11,
   "id": "542f868f",
   "metadata": {},
   "outputs": [
    {
     "name": "stdout",
     "output_type": "stream",
     "text": [
      "/root/IDL_Project/HeteroGNN/result\n"
     ]
    }
   ],
   "source": [
    "!pwd"
   ]
  },
  {
   "cell_type": "code",
   "execution_count": 12,
   "id": "c84c9fd9",
   "metadata": {},
   "outputs": [
    {
     "name": "stdout",
     "output_type": "stream",
     "text": [
      "9 0.8107254623253893 0.7868157644142819 \t 256_8_2_0.0030\n",
      "10 0.810768037660198 0.7868157644142819 \t 256_8_2\n",
      "6 0.7590236126086302 0.7907747797620267 \t 256_8_2\n",
      "13 0.7409897959872493 0.7870907854074232 \t 256_8_1_0.0005\n",
      "0 0.7543893825215481 0.7717972526764183 \t 256_8_2\n",
      ".ipynb_checkpoints 0 0 \t \n",
      "1 0.8007326782101402 0.7968196953735279 \t 256_8_2_0.0030\n",
      "14 0.8107254623253893 0.7868157644142819 \t 256_8_2_0.0030\n",
      "4 0.8107112577896094 0.7868157644142819 \t 256_8_2_0.0030\n",
      "2 0.7982792848405756 0.7904536480608989 \t 256_8_2_0.0030\n",
      "5 0.75900940807285 0.7907747797620267 \t 256_8_2_0.0090\n",
      "8 0.8107538713969493 0.7868157644142819 \t 256_8_2\n",
      "12 0.7277952424507652 0.7907747797620267 \t 256_8_2_0.0100\n",
      "15 0.8107538713969493 0.7868157644142819 \t 256_8_2\n",
      "7 0.7573790204062499 0.7882570063361709 \t 256_8_2_0.0090\n",
      "11 0.75902361260863 0.7907747797620267 \t 256_8_2_0.0090\n",
      "3 0.7309894674965735 0.792754287435899 \t 256_8_2_0.0100\n"
     ]
    }
   ],
   "source": [
    "for labeldir in os.listdir(\"./\"):\n",
    "    best_auprc_val, best_auprc_test = 0, 0\n",
    "    best_modelname = \"\"\n",
    "    if labeldir.endswith(\"ipynb\"):\n",
    "        continue\n",
    "    for modelname in os.listdir(\"./\" + labeldir + \"/\"):\n",
    "        curpath = \"./\" + labeldir + \"/\" + modelname + \"/\"\n",
    "        if os.path.isdir(curpath) is False:\n",
    "            continue\n",
    "            \n",
    "        avg_auprc_val, avg_auprc_test = 0, 0\n",
    "        count = 0\n",
    "        for repeatname in os.listdir(curpath):\n",
    "            if repeatname not in [\"0\", \"1\", \"2\"]:\n",
    "                continue\n",
    "            log_path = curpath + \"/\" + repeatname + \"/log.txt\"\n",
    "            if os.path.isfile(log_path) is False:\n",
    "                continue\n",
    "                \n",
    "            save_auprc_val = -1\n",
    "            save_auprc_test = -1\n",
    "            \n",
    "            li = 1\n",
    "            with open(log_path, \"r\") as f:\n",
    "                while True:\n",
    "                    line = f.readline()\n",
    "                    if not line:\n",
    "                        break\n",
    "                    line = f.readline()\n",
    "                    if not line:\n",
    "                        break\n",
    "                    auprc_val_str, auprc_test_str = line.rstrip().split(\"\\t\")\n",
    "                    auprc_val, auprc_test = float(auprc_val_str.split(\": \")[-1]), float(auprc_test_str.split(\": \")[-1])\n",
    "                    # print(epoch, auprc_val, auprc_test)\n",
    "                    if li == 50:\n",
    "                        save_auprc_val = auprc_val\n",
    "                        save_auprc_test = auprc_test\n",
    "                        break\n",
    "                    li += 1\n",
    "            if save_auprc_val >= 0:\n",
    "                avg_auprc_val += save_auprc_val\n",
    "                count += 1\n",
    "            if save_auprc_test >= 0:\n",
    "                avg_auprc_test += save_auprc_test\n",
    "        if count > 0:\n",
    "            avg_auprc_val /= count\n",
    "            avg_auprc_test /= count\n",
    "            if best_auprc_test < avg_auprc_test:\n",
    "                best_auprc_val = avg_auprc_val\n",
    "                best_auprc_test = avg_auprc_test\n",
    "                best_modelname = modelname\n",
    "    print(labeldir, best_auprc_val, best_auprc_test, \"\\t\", best_modelname)"
   ]
  },
  {
   "cell_type": "code",
   "execution_count": null,
   "id": "490b6789",
   "metadata": {},
   "outputs": [],
   "source": []
  },
  {
   "cell_type": "code",
   "execution_count": null,
   "id": "b996dbc1",
   "metadata": {},
   "outputs": [],
   "source": []
  }
 ],
 "metadata": {
  "kernelspec": {
   "display_name": "Python 3 (ipykernel)",
   "language": "python",
   "name": "python3"
  },
  "language_info": {
   "codemirror_mode": {
    "name": "ipython",
    "version": 3
   },
   "file_extension": ".py",
   "mimetype": "text/x-python",
   "name": "python",
   "nbconvert_exporter": "python",
   "pygments_lexer": "ipython3",
   "version": "3.8.10"
  }
 },
 "nbformat": 4,
 "nbformat_minor": 5
}
