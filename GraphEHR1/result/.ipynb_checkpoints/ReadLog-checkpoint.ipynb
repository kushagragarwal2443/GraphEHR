{
 "cells": [
  {
   "cell_type": "markdown",
   "id": "74d9012e",
   "metadata": {},
   "source": [
    "### OUR w. num layer = 3"
   ]
  },
  {
   "cell_type": "markdown",
   "id": "4fb1121c",
   "metadata": {},
   "source": [
    "AUPRC-Valid:0.850633; AUPRC-Test: 0.797791\n",
    "\n",
    "AUPRC-Valid:0.805314; AUPRC-Test: 0.768284\n",
    "\n",
    "AUPRC-Valid:0.827980; AUPRC-Test: 0.778859"
   ]
  },
  {
   "cell_type": "markdown",
   "id": "d52e2d57",
   "metadata": {},
   "source": [
    "#### OUR w. numheads = 8\n",
    "\n",
    "[PREVIOUS]"
   ]
  },
  {
   "cell_type": "markdown",
   "id": "1408415d",
   "metadata": {},
   "source": [
    "AUPRC-Valid:0.818662; AUPRC-Test: 0.773283\n",
    "\n",
    "AUPRC-Valid:0.763830; AUPRC-Test: 0.666599\n",
    "\n",
    "AUPRC-Valid:0.814857; AUPRC-Test: 0.766617"
   ]
  },
  {
   "cell_type": "markdown",
   "id": "c486b318",
   "metadata": {},
   "source": [
    "### [PREVIOUS BASELINE]\n",
    "\n",
    "AUPRC-Valid:0.769609; AUPRC-Test: 0.763466\n",
    "\n",
    "Valid:0.767149; AUPRC-Test: 0.756652\n",
    "\n",
    "Valid:0.792731; AUPRC-Test: 0.778890"
   ]
  },
  {
   "cell_type": "code",
   "execution_count": null,
   "id": "0791f851",
   "metadata": {},
   "outputs": [],
   "source": []
  },
  {
   "cell_type": "markdown",
   "id": "c36b335f",
   "metadata": {},
   "source": [
    "### numlayer 1 / 8 / 128\n",
    "\n",
    "AUPRC-Valid:0.736847; AUPRC-Test: 0.762246\n",
    "        \n",
    "AUPRC-Valid:0.774930; AUPRC-Test: 0.766528\n",
    "\n",
    "AUPRC-Valid:0.752057; AUPRC-Test: 0.760879"
   ]
  },
  {
   "cell_type": "markdown",
   "id": "76a8de82",
   "metadata": {},
   "source": [
    "### 2 / 8 / 256\n",
    "\n",
    "`PROTOCOL_BUFFERS_PYTHON_IMPLEMENTATION=python CUDA_VISIBLE_DEVICES=1  python main.py --trial 2 --num_layers 2 --num_heads 8 --embedding_size 256 --lr 0.0007`\n",
    "\n",
    "AUPRC-Valid:0.710474; AUPRC-Test: 0.786998\n",
    "\n",
    "AUPRC-Valid:0.771654; AUPRC-Test: 0.765226\n",
    "\n",
    "AUPRC-Valid:0.781039; AUPRC-Test: 0.763168\n",
    "\n",
    "43.154757022857666 second"
   ]
  },
  {
   "cell_type": "markdown",
   "id": "7696f9fa",
   "metadata": {},
   "source": [
    "### Baseline (GNN_for_EHR)"
   ]
  },
  {
   "cell_type": "markdown",
   "id": "fc366bda",
   "metadata": {},
   "source": [
    "[NEW LAB]\n",
    "\n",
    "AUPRC-Valid:0.771174; AUPRC-Test: 0.754248\n",
    "\n",
    "AUPRC-Valid:0.760406; AUPRC-Test: 0.717814\n",
    "\n",
    "\n",
    "1280.850664615631 second"
   ]
  },
  {
   "cell_type": "code",
   "execution_count": null,
   "id": "73c71a02",
   "metadata": {},
   "outputs": [],
   "source": []
  },
  {
   "cell_type": "code",
   "execution_count": null,
   "id": "9aca20f8",
   "metadata": {},
   "outputs": [],
   "source": []
  },
  {
   "cell_type": "markdown",
   "id": "5435fe37",
   "metadata": {},
   "source": [
    "pip install torch_geometric\n",
    "\n",
    "# Optional dependencies:\n",
    "pip install pyg_lib torch_scatter torch_sparse torch_cluster torch_spline_conv -f https://data.pyg.org/whl/torch-2.1.0+cu118.html"
   ]
  },
  {
   "cell_type": "code",
   "execution_count": null,
   "id": "3d564d55",
   "metadata": {},
   "outputs": [],
   "source": [
    "pip install --upgrade pip\n",
    "pip install --extra-index-url https://pypi.nvidia.com tensorrt-bindings==8.6.1 tensorrt-libs==8.6.1\n",
    "pip install -U tensorflow[and-cuda]"
   ]
  }
 ],
 "metadata": {
  "kernelspec": {
   "display_name": "Python 3 (ipykernel)",
   "language": "python",
   "name": "python3"
  },
  "language_info": {
   "codemirror_mode": {
    "name": "ipython",
    "version": 3
   },
   "file_extension": ".py",
   "mimetype": "text/x-python",
   "name": "python",
   "nbconvert_exporter": "python",
   "pygments_lexer": "ipython3",
   "version": "3.8.10"
  }
 },
 "nbformat": 4,
 "nbformat_minor": 5
}
