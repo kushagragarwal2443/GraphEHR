{
 "cells": [
  {
   "cell_type": "code",
   "execution_count": 6,
   "id": "a06463b0",
   "metadata": {},
   "outputs": [],
   "source": [
    "from torch_geometric.data import HeteroData\n",
    "import pickle\n",
    "import numpy as np\n",
    "import torch"
   ]
  },
  {
   "cell_type": "code",
   "execution_count": null,
   "id": "368f1a6a",
   "metadata": {},
   "outputs": [],
   "source": [
    "data = HeteroData()\n",
    "\n",
    "data['paper'].x = ... # [num_papers, num_features_paper]\n",
    "data['author'].x = ... # [num_authors, num_features_author]\n",
    "data['institution'].x = ... # [num_institutions, num_features_institution]\n",
    "data['field_of_study'].x = ... # [num_field, num_features_field]\n",
    "\n",
    "data['paper', 'cites', 'paper'].edge_index = ... # [2, num_edges_cites]\n",
    "data['author', 'writes', 'paper'].edge_index = ... # [2, num_edges_writes]\n",
    "data['author', 'affiliated_with', 'institution'].edge_index = ... # [2, num_edges_affiliated]\n",
    "data['paper', 'has_topic', 'field_of_study'].edge_index = ... # [2, num_edges_topic]\n"
   ]
  },
  {
   "cell_type": "code",
   "execution_count": 7,
   "id": "873c6838",
   "metadata": {},
   "outputs": [],
   "source": [
    "num_diagnosis = 2042\n",
    "num_process = 591\n",
    "\n",
    "edge_attr = np.load(\"data/edge_attr.npy\")\n",
    "edge_index = np.load(\"data/edge_index.npy\")\n",
    "node_label = np.load(\"data/node_label.npy\")\n",
    "with open(\"data/node2feat.pickle\", \"rb\") as f:\n",
    "    node2feat = pickle.load(f)\n",
    "\n",
    "diagnosis_edge_index = [[], []]\n",
    "process_edge_index = [[], []]\n",
    "for eidx in range(edge_index.shape[1]):\n",
    "    atr = edge_attr[eidx]\n",
    "    if atr == \"diagnosis\":\n",
    "        diagnosis_edge_index[0].append(edge_index[0][eidx])\n",
    "        diagnosis_edge_index[1].append(edge_index[1][eidx])\n",
    "    elif atr == \"process\":\n",
    "        process_edge_index[0].append(edge_index[0][eidx])\n",
    "        process_edge_index[1].append(edge_index[1][eidx])\n",
    "        \n",
    "train_mask = np.load(\"data/train_mask.npy\")\n",
    "val_mask = np.load(\"data/val_mask.npy\")\n",
    "test_mask = np.load(\"data/test_mask.npy\")"
   ]
  },
  {
   "cell_type": "code",
   "execution_count": 8,
   "id": "9f13c414",
   "metadata": {},
   "outputs": [],
   "source": [
    "from torch_geometric.data import HeteroData\n",
    "import pickle\n",
    "\n",
    "data = HeteroData()\n",
    "\n",
    "data['icd9'].x = torch.LongTensor([[v] for v in range(num_process)])\n",
    "data['ndc'].x = torch.LongTensor([[v] for v in range(num_diagnosis)])\n",
    "data['patient'].x = torch.FloatTensor([node2feat[v] for v in sorted(list(node2feat.keys()))])\n",
    "\n",
    "data['patient', 'process', 'icd9'].edge_index = torch.LongTensor(process_edge_index)\n",
    "data['patient', 'diagnosis', 'ndc'].edge_index = torch.LongTensor(diagnosis_edge_index)\n",
    "\n",
    "data.train_mask = train_mask\n",
    "data.val_mask = val_mask\n",
    "data.test_mask = test_mask"
   ]
  },
  {
   "cell_type": "code",
   "execution_count": null,
   "id": "dcb86abe",
   "metadata": {},
   "outputs": [],
   "source": []
  }
 ],
 "metadata": {
  "kernelspec": {
   "display_name": "Python 3 (ipykernel)",
   "language": "python",
   "name": "python3"
  },
  "language_info": {
   "codemirror_mode": {
    "name": "ipython",
    "version": 3
   },
   "file_extension": ".py",
   "mimetype": "text/x-python",
   "name": "python",
   "nbconvert_exporter": "python",
   "pygments_lexer": "ipython3",
   "version": "3.8.10"
  }
 },
 "nbformat": 4,
 "nbformat_minor": 5
}
