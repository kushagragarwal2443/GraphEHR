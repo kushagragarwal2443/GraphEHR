{
 "cells": [
  {
   "cell_type": "code",
   "execution_count": 1,
   "id": "61793a02",
   "metadata": {},
   "outputs": [
    {
     "name": "stderr",
     "output_type": "stream",
     "text": [
      "/usr/local/lib/python3.8/dist-packages/tqdm/auto.py:22: TqdmWarning: IProgress not found. Please update jupyter and ipywidgets. See https://ipywidgets.readthedocs.io/en/stable/user_install.html\n",
      "  from .autonotebook import tqdm as notebook_tqdm\n"
     ]
    }
   ],
   "source": [
    "from torch_geometric.data import HeteroData\n",
    "import pickle\n",
    "import numpy as np\n",
    "import torch"
   ]
  },
  {
   "cell_type": "code",
   "execution_count": 2,
   "id": "0e7c797f",
   "metadata": {},
   "outputs": [
    {
     "name": "stdout",
     "output_type": "stream",
     "text": [
      "/root/IDL_Project/HeteroGNN\n"
     ]
    }
   ],
   "source": [
    "!pwd"
   ]
  },
  {
   "cell_type": "code",
   "execution_count": 3,
   "id": "c547bad0",
   "metadata": {},
   "outputs": [],
   "source": [
    "# data = HeteroData()\n",
    "\n",
    "# data['paper'].x = ... # [num_papers, num_features_paper]\n",
    "# data['author'].x = ... # [num_authors, num_features_author]\n",
    "# data['institution'].x = ... # [num_institutions, num_features_institution]\n",
    "# data['field_of_study'].x = ... # [num_field, num_features_field]\n",
    "\n",
    "# data['paper', 'cites', 'paper'].edge_index = ... # [2, num_edges_cites]\n",
    "# data['author', 'writes', 'paper'].edge_index = ... # [2, num_edges_writes]\n",
    "# data['author', 'affiliated_with', 'institution'].edge_index = ... # [2, num_edges_affiliated]\n",
    "# data['paper', 'has_topic', 'field_of_study'].edge_index = ... # [2, num_edges_topic]\n"
   ]
  },
  {
   "cell_type": "code",
   "execution_count": 4,
   "id": "e0fb919f",
   "metadata": {},
   "outputs": [],
   "source": [
    "# num_diagnosis = 2042\n",
    "# num_process = 591\n",
    "\n",
    "# edge_attr = np.load(\"data/edge_attr.npy\")\n",
    "# edge_index = np.load(\"data/edge_index.npy\")\n",
    "# node_label = np.load(\"data/node_label.npy\")\n",
    "# with open(\"data/node2feat.pickle\", \"rb\") as f:\n",
    "#     node2feat = pickle.load(f)\n",
    "\n",
    "# diagnosis_edge_index = [[], []]\n",
    "# process_edge_index = [[], []]\n",
    "# for eidx in range(edge_index.shape[1]):\n",
    "#     atr = edge_attr[eidx]\n",
    "#     if atr == \"diagnosis\":\n",
    "#         diagnosis_edge_index[0].append(edge_index[0][eidx])\n",
    "#         diagnosis_edge_index[1].append(edge_index[1][eidx])\n",
    "#     elif atr == \"process\":\n",
    "#         process_edge_index[0].append(edge_index[0][eidx])\n",
    "#         process_edge_index[1].append(edge_index[1][eidx])\n",
    "# self_edge_index = [[],[]]\n",
    "# for vid in node2feat.keys():\n",
    "#     self_edge_index[0].append(vid)\n",
    "#     self_edge_index[1].append(vid)"
   ]
  },
  {
   "cell_type": "code",
   "execution_count": 5,
   "id": "10474fa5",
   "metadata": {},
   "outputs": [
    {
     "name": "stdout",
     "output_type": "stream",
     "text": [
      "tensor([[4, 5, 6],\n",
      "        [1, 2, 3]])\n"
     ]
    }
   ],
   "source": [
    "a = torch.LongTensor([[1,2,3],[4,5,6]])\n",
    "print(a[[1,0],:])"
   ]
  },
  {
   "cell_type": "code",
   "execution_count": 24,
   "id": "edecfbfd",
   "metadata": {},
   "outputs": [
    {
     "name": "stdout",
     "output_type": "stream",
     "text": [
      "torch.Size([591, 1])\n",
      "torch.Size([2042, 1])\n",
      "torch.Size([1531, 235])\n",
      "tensor(1530) tensor(0)\n",
      "tensor(2041) tensor(0)\n",
      "tensor(1530) tensor(1)\n",
      "tensor(590) tensor(0)\n"
     ]
    }
   ],
   "source": [
    "from torch_geometric.data import HeteroData\n",
    "import pickle\n",
    "\n",
    "data = HeteroData()\n",
    "\n",
    "data['icd'].x = torch.FloatTensor(np.load(\"data/icd_feat.npy\"))\n",
    "data['ndc'].x = torch.FloatTensor(np.load(\"data/ndc_feat.npy\"))\n",
    "data['patient'].x = torch.FloatTensor(np.load(\"data/patient_feat.npy\"))\n",
    "data['patient'].y = torch.LongTensor(np.load(\"data/patient_label.npy\"))\n",
    "print(data['icd'].x.shape)\n",
    "print(data['ndc'].x.shape)\n",
    "print(data['patient'].x.shape)\n",
    "\n",
    "diagnosis_edge_index = torch.LongTensor(np.load(\"data/edge_index_diagnosis.npy\"))\n",
    "print(diagnosis_edge_index[0].max(), diagnosis_edge_index[0].min())\n",
    "print(diagnosis_edge_index[1].max(), diagnosis_edge_index[1].min())\n",
    "process_edge_index = torch.LongTensor(np.load(\"data/edge_index_process.npy\"))\n",
    "print(process_edge_index[0].max(), process_edge_index[0].min())\n",
    "print(process_edge_index[1].max(), process_edge_index[1].min())\n",
    "\n",
    "data['patient', 'toprocess', 'icd'].edge_index = process_edge_index\n",
    "data['icd', 'fromprocess', 'patient'].edge_index = process_edge_index[[1,0],:]\n",
    "data['patient', 'todiagnosis', 'ndc'].edge_index = diagnosis_edge_index\n",
    "data['ndc', 'fromdiagnosis', 'patient'].edge_index = diagnosis_edge_index[[1,0],:]\n",
    "# data['patient', 'self', 'patient'].edge_index = torch.LongTensor(self_edge_index)\n",
    "\n",
    "        \n",
    "train_mask = np.load(\"data/train_mask.npy\")\n",
    "val_mask = np.load(\"data/val_mask.npy\")\n",
    "test_mask = np.load(\"data/test_mask.npy\")\n",
    "data.train_mask = train_mask\n",
    "data.val_mask = val_mask\n",
    "data.test_mask = test_mask\n"
   ]
  },
  {
   "cell_type": "code",
   "execution_count": 25,
   "id": "10e6d53f",
   "metadata": {},
   "outputs": [
    {
     "data": {
      "text/plain": [
       "{('patient',\n",
       "  'toprocess',\n",
       "  'icd'): tensor([[   1,    1,    1,  ..., 1529, 1529, 1530],\n",
       "         [   0,    1,    2,  ...,   32,   92,   36]]),\n",
       " ('icd',\n",
       "  'fromprocess',\n",
       "  'patient'): tensor([[   0,    1,    2,  ...,   32,   92,   36],\n",
       "         [   1,    1,    1,  ..., 1529, 1529, 1530]]),\n",
       " ('patient',\n",
       "  'todiagnosis',\n",
       "  'ndc'): tensor([[   0,    0,    0,  ..., 1530, 1530, 1530],\n",
       "         [   0,    1,    2,  ...,    1,   71, 1540]]),\n",
       " ('ndc',\n",
       "  'fromdiagnosis',\n",
       "  'patient'): tensor([[   0,    1,    2,  ...,    1,   71, 1540],\n",
       "         [   0,    0,    0,  ..., 1530, 1530, 1530]])}"
      ]
     },
     "execution_count": 25,
     "metadata": {},
     "output_type": "execute_result"
    }
   ],
   "source": [
    "data.edge_index_dict"
   ]
  },
  {
   "cell_type": "code",
   "execution_count": 26,
   "id": "c292a0e4",
   "metadata": {},
   "outputs": [],
   "source": [
    "import torch_geometric.transforms as T\n",
    "from torch_geometric.datasets import OGB_MAG\n",
    "from torch_geometric.nn import HGTConv, Linear\n",
    "\n",
    "class HGT(torch.nn.Module):\n",
    "    def __init__(self, hidden_channels, out_channels, num_heads, num_layers):\n",
    "        super().__init__()\n",
    "\n",
    "        self.lin_dict = torch.nn.ModuleDict()\n",
    "        for node_type in data.node_types:\n",
    "            self.lin_dict[node_type] = Linear(-1, hidden_channels)\n",
    "\n",
    "        self.convs = torch.nn.ModuleList()\n",
    "        for _ in range(num_layers):\n",
    "            conv = HGTConv(hidden_channels, hidden_channels, data.metadata(),\n",
    "                           num_heads, group='sum')\n",
    "            self.convs.append(conv)\n",
    "\n",
    "        self.lin = Linear(hidden_channels, out_channels)\n",
    "\n",
    "    def forward(self, x_dict, edge_index_dict):\n",
    "        for node_type, x in x_dict.items():\n",
    "            x_dict[node_type] = self.lin_dict[node_type](x).relu_()\n",
    "\n",
    "        for conv in self.convs:\n",
    "            x_dict = conv(x_dict, edge_index_dict)\n",
    "\n",
    "        return self.lin(x_dict['patient'])"
   ]
  },
  {
   "cell_type": "code",
   "execution_count": 27,
   "id": "88bb73b8",
   "metadata": {},
   "outputs": [],
   "source": [
    "model = HGT(64, 1, 4, 2)"
   ]
  },
  {
   "cell_type": "code",
   "execution_count": 28,
   "id": "0b6e0fdd",
   "metadata": {},
   "outputs": [
    {
     "data": {
      "text/plain": [
       "tensor([[-0.0468],\n",
       "        [-0.0468],\n",
       "        [-0.0468],\n",
       "        ...,\n",
       "        [-0.0468],\n",
       "        [-0.0468],\n",
       "        [-0.0918]], grad_fn=<IndexBackward0>)"
      ]
     },
     "execution_count": 28,
     "metadata": {},
     "output_type": "execute_result"
    }
   ],
   "source": [
    "model(data.x_dict, data.edge_index_dict)[data.test_mask]"
   ]
  },
  {
   "cell_type": "code",
   "execution_count": 30,
   "id": "ffce9b9f",
   "metadata": {},
   "outputs": [
    {
     "data": {
      "text/plain": [
       "tensor([0, 0, 0,  ..., 1, 0, 1])"
      ]
     },
     "execution_count": 30,
     "metadata": {},
     "output_type": "execute_result"
    }
   ],
   "source": [
    "data[\"patient\"].y[data.train_mask]"
   ]
  },
  {
   "cell_type": "code",
   "execution_count": null,
   "id": "9697f82d",
   "metadata": {},
   "outputs": [],
   "source": []
  },
  {
   "cell_type": "code",
   "execution_count": 1,
   "id": "6f035997",
   "metadata": {},
   "outputs": [
    {
     "name": "stdout",
     "output_type": "stream",
     "text": [
      "cuda\n"
     ]
    }
   ],
   "source": [
    "import argparse\n",
    "import torch\n",
    "import numpy as np\n",
    "import torch.nn as nn\n",
    "from torch import optim\n",
    "from torch.utils.data import DataLoader\n",
    "from torch_geometric.loader import NeighborLoader\n",
    "from collections import Counter\n",
    "import pickle\n",
    "from tqdm import tqdm\n",
    "from datetime import datetime\n",
    "from model import *\n",
    "import os\n",
    "import logging\n",
    "from sklearn.metrics import precision_recall_curve, auc\n",
    "\n",
    "if torch.cuda.is_available():\n",
    "    device = 'cuda'\n",
    "else:\n",
    "    device = 'cpu'\n",
    "print(device)\n",
    "\n",
    "from dataset import *\n",
    "from model import *"
   ]
  },
  {
   "cell_type": "code",
   "execution_count": 5,
   "id": "c7e176dc",
   "metadata": {},
   "outputs": [
    {
     "name": "stdout",
     "output_type": "stream",
     "text": [
      "HeteroData(\n",
      "  train_mask=[1224],\n",
      "  val_mask=[154],\n",
      "  test_mask=[153],\n",
      "  icd={ x=[591, 1] },\n",
      "  ndc={ x=[2042, 1] },\n",
      "  patient={\n",
      "    x=[1531, 235],\n",
      "    y=[1531],\n",
      "  },\n",
      "  (patient, toprocess, icd)={ edge_index=[2, 6553] },\n",
      "  (icd, fromprocess, patient)={ edge_index=[2, 6553] },\n",
      "  (patient, todiagnosis, ndc)={ edge_index=[2, 77721] },\n",
      "  (ndc, fromdiagnosis, patient)={ edge_index=[2, 77721] }\n",
      ")\n"
     ]
    }
   ],
   "source": [
    "data = EHRData()\n",
    "print(data)"
   ]
  },
  {
   "cell_type": "code",
   "execution_count": 8,
   "id": "d11410e4",
   "metadata": {},
   "outputs": [],
   "source": [
    "model = HGT(data, 64, 1, 4, 2).to(\"cuda:0\")"
   ]
  },
  {
   "cell_type": "code",
   "execution_count": 33,
   "id": "baa885dc",
   "metadata": {},
   "outputs": [],
   "source": [
    "train_loader = NeighborLoader(\n",
    "    data,\n",
    "    # Sample 15 neighbors for each node and each edge type for 2 iterations:\n",
    "    num_neighbors={key: [5] * 2 for key in data.edge_types},\n",
    "    # Use a batch size of 128 for sampling training nodes of type \"paper\":\n",
    "    batch_size=5,\n",
    "    input_nodes=('patient', data.train_mask),\n",
    ")"
   ]
  },
  {
   "cell_type": "code",
   "execution_count": 34,
   "id": "dc2dbdf6",
   "metadata": {},
   "outputs": [
    {
     "name": "stdout",
     "output_type": "stream",
     "text": [
      "torch.Size([157, 235])\n",
      "torch.Size([157])\n",
      "(1224,)\n"
     ]
    }
   ],
   "source": [
    "batch = next(iter(train_loader))\n",
    "print(batch.x_dict[\"patient\"].shape)\n",
    "print(batch[\"patient\"].y.shape)\n",
    "print(batch.train_mask.shape)"
   ]
  },
  {
   "cell_type": "code",
   "execution_count": 24,
   "id": "6d97412e",
   "metadata": {},
   "outputs": [
    {
     "name": "stdout",
     "output_type": "stream",
     "text": [
      "torch.Size([515, 1])\n"
     ]
    }
   ],
   "source": [
    "for batch in train_loader:\n",
    "#     print(batch)\n",
    "#     print(batch.x_dict)\n",
    "#     print(batch.edge_index_dict)\n",
    "#     print(batch[\"patient\"].y)\n",
    "    batch = batch.to(\"cuda:0\")\n",
    "    out = model(batch.x_dict, batch.edge_index_dict)\n",
    "    print(out.shape)\n",
    "    break"
   ]
  },
  {
   "cell_type": "code",
   "execution_count": null,
   "id": "0a6bd2f3",
   "metadata": {},
   "outputs": [],
   "source": []
  }
 ],
 "metadata": {
  "kernelspec": {
   "display_name": "Python 3 (ipykernel)",
   "language": "python",
   "name": "python3"
  },
  "language_info": {
   "codemirror_mode": {
    "name": "ipython",
    "version": 3
   },
   "file_extension": ".py",
   "mimetype": "text/x-python",
   "name": "python",
   "nbconvert_exporter": "python",
   "pygments_lexer": "ipython3",
   "version": "3.8.10"
  }
 },
 "nbformat": 4,
 "nbformat_minor": 5
}
